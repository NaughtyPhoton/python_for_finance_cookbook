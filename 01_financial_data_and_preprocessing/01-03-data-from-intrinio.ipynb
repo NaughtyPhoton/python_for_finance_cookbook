{
 "cells": [
  {
   "cell_type": "code",
   "execution_count": 9,
   "metadata": {
    "collapsed": true
   },
   "outputs": [],
   "source": [
    "import intrinio_sdk\n",
    "import pandas as pd\n",
    "from credentials.register_intrinio import INTRINIO_SANDBOX"
   ]
  },
  {
   "cell_type": "code",
   "execution_count": 11,
   "outputs": [],
   "source": [
    "intrinio_sdk.ApiClient().configuration.api_key['api_key'] = INTRINIO_SANDBOX\n",
    "security_api = intrinio_sdk.SecurityApi()"
   ],
   "metadata": {
    "collapsed": false,
    "pycharm": {
     "name": "#%%\n"
    }
   }
  },
  {
   "cell_type": "code",
   "execution_count": 12,
   "outputs": [],
   "source": [
    "r = security_api.get_security_stock_prices(identifier='AAPL',\n",
    "                                           start_date='2000-01-01',\n",
    "                                           end_date='2010-12-31',\n",
    "                                           frequency='daily',\n",
    "                                           page_size=10000)"
   ],
   "metadata": {
    "collapsed": false,
    "pycharm": {
     "name": "#%%\n"
    }
   }
  },
  {
   "cell_type": "markdown",
   "source": [
    "Convert the data into a dataframe\n"
   ],
   "metadata": {
    "collapsed": false,
    "pycharm": {
     "name": "#%% md\n"
    }
   }
  },
  {
   "cell_type": "code",
   "source": [
    "response_list = [x.to_dict() for x in r.stock_prices]\n",
    "df_intrinio = pd.DataFrame(response_list).sort_values('date')\n",
    "df_intrinio.set_index('date', inplace=True)\n",
    "\n",
    "df_intrinio.head()"
   ],
   "metadata": {
    "collapsed": false,
    "pycharm": {
     "name": "#%%\n"
    }
   },
   "execution_count": 15,
   "outputs": [
    {
     "name": "stderr",
     "output_type": "stream",
     "text": [
      "warning: PYDEVD_USE_CYTHON environment variable is set to 'NO'. Frame evaluator will be also disabled because it requires Cython extensions to be enabled in order to operate correctly.\n"
     ]
    },
    {
     "data": {
      "text/plain": "            intraperiod frequency    open    high     low   close     volume  \\\ndate                                                                           \n2000-01-03        False     daily  104.87  112.50  101.69  111.94  4783900.0   \n2000-01-04        False     daily  108.25  110.62  101.19  102.50  4574800.0   \n2000-01-05        False     daily  103.75  110.56  103.00  104.00  6949300.0   \n2000-01-06        False     daily  106.12  107.00   95.00   95.00  6856900.0   \n2000-01-07        False     daily   96.50  101.00   95.50   99.50  4113700.0   \n\n            adj_open  adj_high   adj_low  adj_close   adj_volume  \ndate                                                              \n2000-01-03  3.236509  3.471987  3.138367   3.454704  133949200.0  \n2000-01-04  3.340823  3.413966  3.122936   3.163366  128094400.0  \n2000-01-05  3.201943  3.412114  3.178797   3.209659  194580400.0  \n2000-01-06  3.275087  3.302245  2.931900   2.931900  191993200.0  \n2000-01-07  2.978193  3.117073  2.947331   3.070779  115183600.0  ",
      "text/html": "<div>\n<style scoped>\n    .dataframe tbody tr th:only-of-type {\n        vertical-align: middle;\n    }\n\n    .dataframe tbody tr th {\n        vertical-align: top;\n    }\n\n    .dataframe thead th {\n        text-align: right;\n    }\n</style>\n<table border=\"1\" class=\"dataframe\">\n  <thead>\n    <tr style=\"text-align: right;\">\n      <th></th>\n      <th>intraperiod</th>\n      <th>frequency</th>\n      <th>open</th>\n      <th>high</th>\n      <th>low</th>\n      <th>close</th>\n      <th>volume</th>\n      <th>adj_open</th>\n      <th>adj_high</th>\n      <th>adj_low</th>\n      <th>adj_close</th>\n      <th>adj_volume</th>\n    </tr>\n    <tr>\n      <th>date</th>\n      <th></th>\n      <th></th>\n      <th></th>\n      <th></th>\n      <th></th>\n      <th></th>\n      <th></th>\n      <th></th>\n      <th></th>\n      <th></th>\n      <th></th>\n      <th></th>\n    </tr>\n  </thead>\n  <tbody>\n    <tr>\n      <th>2000-01-03</th>\n      <td>False</td>\n      <td>daily</td>\n      <td>104.87</td>\n      <td>112.50</td>\n      <td>101.69</td>\n      <td>111.94</td>\n      <td>4783900.0</td>\n      <td>3.236509</td>\n      <td>3.471987</td>\n      <td>3.138367</td>\n      <td>3.454704</td>\n      <td>133949200.0</td>\n    </tr>\n    <tr>\n      <th>2000-01-04</th>\n      <td>False</td>\n      <td>daily</td>\n      <td>108.25</td>\n      <td>110.62</td>\n      <td>101.19</td>\n      <td>102.50</td>\n      <td>4574800.0</td>\n      <td>3.340823</td>\n      <td>3.413966</td>\n      <td>3.122936</td>\n      <td>3.163366</td>\n      <td>128094400.0</td>\n    </tr>\n    <tr>\n      <th>2000-01-05</th>\n      <td>False</td>\n      <td>daily</td>\n      <td>103.75</td>\n      <td>110.56</td>\n      <td>103.00</td>\n      <td>104.00</td>\n      <td>6949300.0</td>\n      <td>3.201943</td>\n      <td>3.412114</td>\n      <td>3.178797</td>\n      <td>3.209659</td>\n      <td>194580400.0</td>\n    </tr>\n    <tr>\n      <th>2000-01-06</th>\n      <td>False</td>\n      <td>daily</td>\n      <td>106.12</td>\n      <td>107.00</td>\n      <td>95.00</td>\n      <td>95.00</td>\n      <td>6856900.0</td>\n      <td>3.275087</td>\n      <td>3.302245</td>\n      <td>2.931900</td>\n      <td>2.931900</td>\n      <td>191993200.0</td>\n    </tr>\n    <tr>\n      <th>2000-01-07</th>\n      <td>False</td>\n      <td>daily</td>\n      <td>96.50</td>\n      <td>101.00</td>\n      <td>95.50</td>\n      <td>99.50</td>\n      <td>4113700.0</td>\n      <td>2.978193</td>\n      <td>3.117073</td>\n      <td>2.947331</td>\n      <td>3.070779</td>\n      <td>115183600.0</td>\n    </tr>\n  </tbody>\n</table>\n</div>"
     },
     "execution_count": 15,
     "metadata": {},
     "output_type": "execute_result"
    }
   ]
  }
 ],
 "metadata": {
  "kernelspec": {
   "display_name": "Python 3",
   "language": "python",
   "name": "python3"
  },
  "language_info": {
   "codemirror_mode": {
    "name": "ipython",
    "version": 2
   },
   "file_extension": ".py",
   "mimetype": "text/x-python",
   "name": "python",
   "nbconvert_exporter": "python",
   "pygments_lexer": "ipython2",
   "version": "2.7.6"
  }
 },
 "nbformat": 4,
 "nbformat_minor": 0
}